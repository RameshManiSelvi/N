{
 "cells": [
  {
   "cell_type": "code",
   "execution_count": 2,
   "id": "7468db81",
   "metadata": {},
   "outputs": [
    {
     "name": "stdout",
     "output_type": "stream",
     "text": [
      "fruit\n",
      "apple : fruit\n",
      "carrot : vegetable\n",
      "cat : animal\n",
      "dog : animal\n",
      "pencil : writing instrument\n",
      "book : reading material\n",
      "banana : fruit\n"
     ]
    }
   ],
   "source": [
    "word_properties = {\n",
    "    'apple': 'fruit',\n",
    "    'carrot': 'vegetable',\n",
    "    'cat': 'animal',\n",
    "    'dog': 'animal',\n",
    "    'pencil': 'writing instrument',\n",
    "    'book': 'reading material'\n",
    "}\n",
    "\n",
    "print(word_properties['apple'])\n",
    "\n",
    "word_properties['banana'] = 'fruit'\n",
    "\n",
    "for word, prop in word_properties.items():\n",
    "    print(word, ':', prop)"
   ]
  },
  {
   "cell_type": "code",
   "execution_count": null,
   "id": "5a4cfed5",
   "metadata": {},
   "outputs": [],
   "source": []
  }
 ],
 "metadata": {
  "kernelspec": {
   "display_name": "Python 3 (ipykernel)",
   "language": "python",
   "name": "python3"
  },
  "language_info": {
   "codemirror_mode": {
    "name": "ipython",
    "version": 3
   },
   "file_extension": ".py",
   "mimetype": "text/x-python",
   "name": "python",
   "nbconvert_exporter": "python",
   "pygments_lexer": "ipython3",
   "version": "3.11.3"
  }
 },
 "nbformat": 4,
 "nbformat_minor": 5
}
