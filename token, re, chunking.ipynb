{
 "cells": [
  {
   "cell_type": "code",
   "execution_count": 1,
   "id": "bd4e70bf",
   "metadata": {},
   "outputs": [
    {
     "name": "stdout",
     "output_type": "stream",
     "text": [
      "After Token:  ['Founded', 'in', '2002,', 'SpaceX’s', 'mission', 'is', 'to', 'enable', 'humans', 'to', 'become', 'a', 'spacefaring', 'civilization', 'and', 'a', 'multi-planet', 'species', 'by', 'building', 'a', 'self-sustaining', 'city', 'on', 'Mars.', 'In', '2008,', 'SpaceX’s', 'Falcon', '1', 'became', 'thefirst', 'privately', 'developed', 'liquid-fuel', 'launch', 'vehicle', 'to', 'orbit', 'the', 'Earth.']\n",
      "\n",
      "After Token:  [('Founded', 'VBN'), ('in', 'IN'), ('2002,', 'CD'), ('SpaceX’s', 'NNP'), ('mission', 'NN'), ('is', 'VBZ'), ('to', 'TO'), ('enable', 'VB'), ('humans', 'NNS'), ('to', 'TO'), ('become', 'VB'), ('a', 'DT'), ('spacefaring', 'JJ'), ('civilization', 'NN'), ('and', 'CC'), ('a', 'DT'), ('multi-planet', 'JJ'), ('species', 'NNS'), ('by', 'IN'), ('building', 'VBG'), ('a', 'DT'), ('self-sustaining', 'JJ'), ('city', 'NN'), ('on', 'IN'), ('Mars.', 'NNP'), ('In', 'IN'), ('2008,', 'CD'), ('SpaceX’s', 'NNP'), ('Falcon', 'NNP'), ('1', 'CD'), ('became', 'VBD'), ('thefirst', 'RB'), ('privately', 'RB'), ('developed', 'VBN'), ('liquid-fuel', 'JJ'), ('launch', 'NN'), ('vehicle', 'NN'), ('to', 'TO'), ('orbit', 'VB'), ('the', 'DT'), ('Earth.', 'NNP')]\n",
      "\n",
      "After Regex:  chunk.RegexpParser with 1 stages:\n",
      "RegexpChunkParser with 1 rules:\n",
      "       <ChunkRule: '<NN.?>*<VBD>*<JJ.?>*<CC>?'>\n",
      "\n",
      "After Chunking:  (S\n",
      "  Founded/VBN\n",
      "  in/IN\n",
      "  2002,/CD\n",
      "  (mychunk SpaceX’s/NNP mission/NN)\n",
      "  is/VBZ\n",
      "  to/TO\n",
      "  enable/VB\n",
      "  (mychunk humans/NNS)\n",
      "  to/TO\n",
      "  become/VB\n",
      "  a/DT\n",
      "  (mychunk spacefaring/JJ)\n",
      "  (mychunk civilization/NN and/CC)\n",
      "  a/DT\n",
      "  (mychunk multi-planet/JJ)\n",
      "  (mychunk species/NNS)\n",
      "  by/IN\n",
      "  building/VBG\n",
      "  a/DT\n",
      "  (mychunk self-sustaining/JJ)\n",
      "  (mychunk city/NN)\n",
      "  on/IN\n",
      "  (mychunk Mars./NNP)\n",
      "  In/IN\n",
      "  2008,/CD\n",
      "  (mychunk SpaceX’s/NNP Falcon/NNP)\n",
      "  1/CD\n",
      "  (mychunk became/VBD)\n",
      "  thefirst/RB\n",
      "  privately/RB\n",
      "  developed/VBN\n",
      "  (mychunk liquid-fuel/JJ)\n",
      "  (mychunk launch/NN vehicle/NN)\n",
      "  to/TO\n",
      "  orbit/VB\n",
      "  the/DT\n",
      "  (mychunk Earth./NNP))\n"
     ]
    }
   ],
   "source": [
    "import nltk\n",
    "text=\"\"\"Founded in 2002, SpaceX’s mission is to enable humans to become a spacefaring civilization and a multi-planet species by building a self-sustaining city on Mars. In 2008, SpaceX’s Falcon 1 became thefirst privately developed liquid-fuel launch vehicle to orbit the Earth.\"\"\"\n",
    "\n",
    "from nltk import pos_tag\n",
    "from nltk import RegexpParser\n",
    "text = text.split()\n",
    "print(\"After Token: \",text)\n",
    "tokens_tag = pos_tag(text)\n",
    "print(\"\\nAfter Token: \",tokens_tag)\n",
    "patterns= \"\"\"mychunk:{<NN.?>*<VBD>*<JJ.?>*<CC>?}\"\"\"\n",
    "chunker = RegexpParser(patterns)\n",
    "print(\"\\nAfter Regex: \",chunker)\n",
    "output = chunker.parse(tokens_tag)\n",
    "print(\"\\nAfter Chunking: \",output)"
   ]
  },
  {
   "cell_type": "code",
   "execution_count": null,
   "id": "0204a0f6",
   "metadata": {},
   "outputs": [],
   "source": []
  }
 ],
 "metadata": {
  "kernelspec": {
   "display_name": "Python 3 (ipykernel)",
   "language": "python",
   "name": "python3"
  },
  "language_info": {
   "codemirror_mode": {
    "name": "ipython",
    "version": 3
   },
   "file_extension": ".py",
   "mimetype": "text/x-python",
   "name": "python",
   "nbconvert_exporter": "python",
   "pygments_lexer": "ipython3",
   "version": "3.11.3"
  }
 },
 "nbformat": 4,
 "nbformat_minor": 5
}
