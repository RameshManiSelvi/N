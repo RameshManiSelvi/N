{
 "cells": [
  {
   "cell_type": "code",
   "execution_count": 1,
   "id": "6d37b8b4",
   "metadata": {},
   "outputs": [
    {
     "name": "stdout",
     "output_type": "stream",
     "text": [
      "Synset('dog.n.01')\n",
      "a member of the genus Canis (probably descended from the common wolf) that has been domesticated by man since prehistoric times; occurs in many breeds\n",
      "['the dog barked all night']\n",
      "dog\n",
      "domestic_dog\n",
      "Canis_familiaris\n",
      "cold\n",
      "cold\n"
     ]
    }
   ],
   "source": [
    "from nltk.corpus import wordnet\n",
    "\n",
    "synsets = wordnet.synsets('dog')\n",
    "\n",
    "print(synsets[0])\n",
    "\n",
    "print(synsets[0].definition())\n",
    "print(synsets[0].examples())\n",
    "\n",
    "for lemma in synsets[0].lemmas():\n",
    "    print(lemma.name())\n",
    "\n",
    "lemmas = wordnet.lemmas('hot')\n",
    "for lemma in lemmas:\n",
    "    antonyms = lemma.antonyms()\n",
    "    if antonyms:\n",
    "        print(antonyms[0].name())\n"
   ]
  },
  {
   "cell_type": "code",
   "execution_count": null,
   "id": "4f9c8772",
   "metadata": {},
   "outputs": [],
   "source": []
  }
 ],
 "metadata": {
  "kernelspec": {
   "display_name": "Python 3 (ipykernel)",
   "language": "python",
   "name": "python3"
  },
  "language_info": {
   "codemirror_mode": {
    "name": "ipython",
    "version": 3
   },
   "file_extension": ".py",
   "mimetype": "text/x-python",
   "name": "python",
   "nbconvert_exporter": "python",
   "pygments_lexer": "ipython3",
   "version": "3.11.3"
  }
 },
 "nbformat": 4,
 "nbformat_minor": 5
}
