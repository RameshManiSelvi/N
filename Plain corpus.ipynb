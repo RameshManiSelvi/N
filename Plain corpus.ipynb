{
 "cells": [
  {
   "cell_type": "code",
   "execution_count": null,
   "id": "8a468f28",
   "metadata": {},
   "outputs": [],
   "source": [
    "corpus = ['The quick brown fox jumps over the lazy dog.',\n",
    "          'A quick brown dog jumps over a lazy cat.']\n",
    "\n",
    "with open('corpus.txt', 'w') as f:\n",
    "    for sentence in corpus:\n",
    "        f.write(sentence + '\\n')\n",
    "        \n",
    "\n",
    "import nltk\n",
    "with open('corpus.txt', 'r') as f:\n",
    "    corpus = f.read()\n",
    "\n",
    "tokens = nltk.word_tokenize(corpus)\n",
    "\n",
    "print(tokens)"
   ]
  }
 ],
 "metadata": {
  "kernelspec": {
   "display_name": "Python 3 (ipykernel)",
   "language": "python",
   "name": "python3"
  },
  "language_info": {
   "codemirror_mode": {
    "name": "ipython",
    "version": 3
   },
   "file_extension": ".py",
   "mimetype": "text/x-python",
   "name": "python",
   "nbconvert_exporter": "python",
   "pygments_lexer": "ipython3",
   "version": "3.11.3"
  }
 },
 "nbformat": 4,
 "nbformat_minor": 5
}
