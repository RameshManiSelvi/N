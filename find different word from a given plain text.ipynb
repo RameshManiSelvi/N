{
 "cells": [
  {
   "cell_type": "code",
   "execution_count": 1,
   "id": "5ae710b6",
   "metadata": {},
   "outputs": [
    {
     "name": "stdout",
     "output_type": "stream",
     "text": [
      "Matches: ['apple', 'banana', 'kiwi']\n",
      "Scores: {'apple': 5, 'banana': 0, 'kiwi': 0}\n",
      "Best match: apple\n"
     ]
    }
   ],
   "source": [
    "corpus = ['apple', 'banana', 'orange', 'grape', 'kiwi']\n",
    "\n",
    "text = 'applebananakiwi'\n",
    "\n",
    "matches = [word for word in corpus if word in text]\n",
    "\n",
    "scores = {match: sum([1 for i, j in zip(match, text) if i == j]) for match in matches}\n",
    "\n",
    "best_match = max(scores, key=scores.get)\n",
    "\n",
    "print('Matches:', matches)\n",
    "print('Scores:', scores)\n",
    "print('Best match:', best_match)"
   ]
  },
  {
   "cell_type": "code",
   "execution_count": null,
   "id": "84b20a15",
   "metadata": {},
   "outputs": [],
   "source": []
  }
 ],
 "metadata": {
  "kernelspec": {
   "display_name": "Python 3 (ipykernel)",
   "language": "python",
   "name": "python3"
  },
  "language_info": {
   "codemirror_mode": {
    "name": "ipython",
    "version": 3
   },
   "file_extension": ".py",
   "mimetype": "text/x-python",
   "name": "python",
   "nbconvert_exporter": "python",
   "pygments_lexer": "ipython3",
   "version": "3.11.3"
  }
 },
 "nbformat": 4,
 "nbformat_minor": 5
}
