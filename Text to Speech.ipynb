{
 "cells": [
  {
   "cell_type": "code",
   "execution_count": 2,
   "id": "a5ee71e7",
   "metadata": {},
   "outputs": [],
   "source": [
    "from gtts import gTTS\n",
    "\n",
    "obj=gTTS(text=\"My name is Ramesh\",lang=\"en\",slow=False)\n",
    "\n",
    "obj.save(\"speech.wav\")"
   ]
  },
  {
   "cell_type": "code",
   "execution_count": null,
   "id": "29e1dbb0",
   "metadata": {},
   "outputs": [],
   "source": []
  }
 ],
 "metadata": {
  "kernelspec": {
   "display_name": "Python 3 (ipykernel)",
   "language": "python",
   "name": "python3"
  },
  "language_info": {
   "codemirror_mode": {
    "name": "ipython",
    "version": 3
   },
   "file_extension": ".py",
   "mimetype": "text/x-python",
   "name": "python",
   "nbconvert_exporter": "python",
   "pygments_lexer": "ipython3",
   "version": "3.11.3"
  }
 },
 "nbformat": 4,
 "nbformat_minor": 5
}
