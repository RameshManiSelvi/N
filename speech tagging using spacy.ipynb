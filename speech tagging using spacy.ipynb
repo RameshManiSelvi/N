{
 "cells": [
  {
   "cell_type": "code",
   "execution_count": 1,
   "id": "d447aa03",
   "metadata": {},
   "outputs": [
    {
     "name": "stdout",
     "output_type": "stream",
     "text": [
      "Token: I, POS tag: PRON\n",
      "Token: saw, POS tag: VERB\n",
      "Token: a, POS tag: DET\n",
      "Token: black, POS tag: ADJ\n",
      "Token: cat, POS tag: NOUN\n",
      "Token: crossing, POS tag: VERB\n",
      "Token: the, POS tag: DET\n",
      "Token: road, POS tag: NOUN\n",
      "Token: ., POS tag: PUNCT\n"
     ]
    }
   ],
   "source": [
    "import spacy\n",
    "\n",
    "nlp = spacy.load(\"en_core_web_sm\")\n",
    "\n",
    "def perform_pos_tagging(text):\n",
    "    doc = nlp(text) \n",
    "    for token in doc:\n",
    "        print(f\"Token: {token.text}, POS tag: {token.pos_}\")\n",
    "\n",
    "text = \"I saw a black cat crossing the road.\"\n",
    "perform_pos_tagging(text)"
   ]
  },
  {
   "cell_type": "code",
   "execution_count": null,
   "id": "e5dcf26e",
   "metadata": {},
   "outputs": [],
   "source": []
  }
 ],
 "metadata": {
  "kernelspec": {
   "display_name": "Python 3 (ipykernel)",
   "language": "python",
   "name": "python3"
  },
  "language_info": {
   "codemirror_mode": {
    "name": "ipython",
    "version": 3
   },
   "file_extension": ".py",
   "mimetype": "text/x-python",
   "name": "python",
   "nbconvert_exporter": "python",
   "pygments_lexer": "ipython3",
   "version": "3.11.3"
  }
 },
 "nbformat": 4,
 "nbformat_minor": 5
}
