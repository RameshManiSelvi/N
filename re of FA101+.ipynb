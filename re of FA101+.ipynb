{
 "cells": [
  {
   "cell_type": "code",
   "execution_count": 1,
   "id": "c507fc89",
   "metadata": {},
   "outputs": [
    {
     "name": "stdout",
     "output_type": "stream",
     "text": [
      "Enter a string: 101011\n",
      "Input string does not match the FA pattern.\n"
     ]
    }
   ],
   "source": [
    "import re\n",
    "\n",
    "input_string = input(\"Enter a string: \")\n",
    "\n",
    "pattern = r\"101+\"\n",
    "\n",
    "match = re.fullmatch(pattern, input_string)\n",
    "\n",
    "if match:\n",
    "    print(\"Input string matches the FA pattern.\")\n",
    "else:\n",
    "    print(\"Input string does not match the FA pattern.\")\n"
   ]
  },
  {
   "cell_type": "code",
   "execution_count": null,
   "id": "5249c688",
   "metadata": {},
   "outputs": [],
   "source": []
  }
 ],
 "metadata": {
  "kernelspec": {
   "display_name": "Python 3 (ipykernel)",
   "language": "python",
   "name": "python3"
  },
  "language_info": {
   "codemirror_mode": {
    "name": "ipython",
    "version": 3
   },
   "file_extension": ".py",
   "mimetype": "text/x-python",
   "name": "python",
   "nbconvert_exporter": "python",
   "pygments_lexer": "ipython3",
   "version": "3.11.3"
  }
 },
 "nbformat": 4,
 "nbformat_minor": 5
}
