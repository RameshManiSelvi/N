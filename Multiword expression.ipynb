{
 "cells": [
  {
   "cell_type": "code",
   "execution_count": 1,
   "id": "68a113e5",
   "metadata": {},
   "outputs": [
    {
     "name": "stdout",
     "output_type": "stream",
     "text": [
      "['apple pie']\n"
     ]
    }
   ],
   "source": [
    "import spacy\n",
    "\n",
    "nlp = spacy.load(\"en_core_web_sm\")\n",
    "\n",
    "def extract_multiword_expressions(text):\n",
    "    doc = nlp(text)\n",
    "    mwe_list = []\n",
    "\n",
    "    for token in doc:\n",
    "        if token.pos_ != \"SPACE\":\n",
    "            if token.dep_ == \"compound\" and token.head.pos_ != \"SPACE\":\n",
    "                mwe = token.text + \" \" + token.head.text\n",
    "                mwe_list.append(mwe)\n",
    "\n",
    "    return mwe_list\n",
    "\n",
    "text = \"I bought an apple pie from the bakery.\"\n",
    "mwe_list = extract_multiword_expressions(text)\n",
    "print(mwe_list)\n"
   ]
  },
  {
   "cell_type": "code",
   "execution_count": null,
   "id": "3db11a67",
   "metadata": {},
   "outputs": [],
   "source": []
  }
 ],
 "metadata": {
  "kernelspec": {
   "display_name": "Python 3 (ipykernel)",
   "language": "python",
   "name": "python3"
  },
  "language_info": {
   "codemirror_mode": {
    "name": "ipython",
    "version": 3
   },
   "file_extension": ".py",
   "mimetype": "text/x-python",
   "name": "python",
   "nbconvert_exporter": "python",
   "pygments_lexer": "ipython3",
   "version": "3.11.3"
  }
 },
 "nbformat": 4,
 "nbformat_minor": 5
}
