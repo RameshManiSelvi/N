{
 "cells": [
  {
   "cell_type": "code",
   "execution_count": null,
   "id": "1497b310",
   "metadata": {},
   "outputs": [],
   "source": [
    "import stanza\n",
    "\n",
    "def probabilistic_parsing(sentence):\n",
    "    nlp = stanza.Pipeline('en')\n",
    "    doc = nlp(sentence)\n",
    "    for sent in doc.sentences:\n",
    "        for word in sent.words:\n",
    "            print(word.text, word.head, word.deprel)\n",
    "\n",
    "sentence = \"Ramesh want to play Cricket\"\n",
    "probabilistic_parsing(sentence)\n"
   ]
  }
 ],
 "metadata": {
  "kernelspec": {
   "display_name": "Python 3 (ipykernel)",
   "language": "python",
   "name": "python3"
  },
  "language_info": {
   "codemirror_mode": {
    "name": "ipython",
    "version": 3
   },
   "file_extension": ".py",
   "mimetype": "text/x-python",
   "name": "python",
   "nbconvert_exporter": "python",
   "pygments_lexer": "ipython3",
   "version": "3.11.3"
  }
 },
 "nbformat": 4,
 "nbformat_minor": 5
}
