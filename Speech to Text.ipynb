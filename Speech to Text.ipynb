{
 "cells": [
  {
   "cell_type": "code",
   "execution_count": null,
   "id": "307ffc27",
   "metadata": {},
   "outputs": [],
   "source": [
    "#Audio file source\n",
    "#https://github.com/realpython/python-speech-recognition/blob/master/audio_files/harvard.wav\n",
    "import speech_recognition as sr  #!pip install SpeechRecognition\n",
    "\n",
    "# Initialize recognizer\n",
    "r = sr.Recognizer()\n",
    "\n",
    "# Load audio file\n",
    "with sr.AudioFile('audio_files_harvard.wav') as source:\n",
    "    audio = r.record(source)  # read the entire audio file\n",
    "\n",
    "# Convert speech to text\n",
    "text = r.recognize_google(audio)\n",
    "\n",
    "# Print the output\n",
    "print(text)"
   ]
  }
 ],
 "metadata": {
  "kernelspec": {
   "display_name": "Python 3 (ipykernel)",
   "language": "python",
   "name": "python3"
  },
  "language_info": {
   "codemirror_mode": {
    "name": "ipython",
    "version": 3
   },
   "file_extension": ".py",
   "mimetype": "text/x-python",
   "name": "python",
   "nbconvert_exporter": "python",
   "pygments_lexer": "ipython3",
   "version": "3.11.3"
  }
 },
 "nbformat": 4,
 "nbformat_minor": 5
}
