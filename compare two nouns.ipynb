{
 "cells": [
  {
   "cell_type": "code",
   "execution_count": 1,
   "id": "916f7221",
   "metadata": {},
   "outputs": [
    {
     "name": "stdout",
     "output_type": "stream",
     "text": [
      "The similarity between 'dog' and 'cat' is: 0.2\n"
     ]
    }
   ],
   "source": [
    "from nltk.corpus import wordnet\n",
    "\n",
    "dog_synsets = wordnet.synsets('dog', pos='n')\n",
    "cat_synsets = wordnet.synsets('cat', pos='n')\n",
    "\n",
    "dog_synset = dog_synsets[0]\n",
    "cat_synset = cat_synsets[0]\n",
    "similarity = dog_synset.path_similarity(cat_synset)\n",
    "\n",
    "print(f\"The similarity between 'dog' and 'cat' is: {similarity}\")\n"
   ]
  },
  {
   "cell_type": "code",
   "execution_count": null,
   "id": "77d9e3d3",
   "metadata": {},
   "outputs": [],
   "source": []
  }
 ],
 "metadata": {
  "kernelspec": {
   "display_name": "Python 3 (ipykernel)",
   "language": "python",
   "name": "python3"
  },
  "language_info": {
   "codemirror_mode": {
    "name": "ipython",
    "version": 3
   },
   "file_extension": ".py",
   "mimetype": "text/x-python",
   "name": "python",
   "nbconvert_exporter": "python",
   "pygments_lexer": "ipython3",
   "version": "3.11.3"
  }
 },
 "nbformat": 4,
 "nbformat_minor": 5
}
