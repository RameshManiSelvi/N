{
 "cells": [
  {
   "cell_type": "code",
   "execution_count": 1,
   "id": "d61ce17e",
   "metadata": {},
   "outputs": [
    {
     "name": "stdout",
     "output_type": "stream",
     "text": [
      "Sentence is not valid.\n"
     ]
    }
   ],
   "source": [
    "import nltk\n",
    "class ChartParser:\n",
    "    def __init__(self, grammar):\n",
    "        self.grammar = grammar\n",
    "        self.chart = []\n",
    "\n",
    "    def parse(self, sentence):\n",
    "        self.chart = [[] for _ in range(len(sentence) + 1)]\n",
    "        self.chart[0] = [(rule.lhs(), (), 0) for rule in self.grammar.productions() if not rule.rhs()]\n",
    "        for i in range(len(sentence) + 1):\n",
    "            while True:\n",
    "                added = False\n",
    "                for start, end, prod in self.chart[i]:\n",
    "                    if end == sentence[i:]:\n",
    "                        continue\n",
    "                    for rule in self.grammar.productions():\n",
    "                        if rule.rhs() and rule.rhs()[0] == prod:\n",
    "                            self.chart[i].append((rule.lhs(), rule.rhs(), 0))\n",
    "                            added = True\n",
    "                if not added:\n",
    "                    break\n",
    "        if self.chart[-1] == [(self.grammar.start(), sentence, 0)]:\n",
    "            return True\n",
    "        return False\n",
    "\n",
    "\n",
    "# Define the context-free grammar\n",
    "grammar = nltk.CFG.fromstring(\"\"\"\n",
    "    S -> NP VP\n",
    "    NP -> 'the' N | 'the' N PP\n",
    "    VP -> V NP | VP PP\n",
    "    PP -> P NP\n",
    "    N -> 'cat' | 'dog'\n",
    "    V -> 'chased' | 'ate'\n",
    "    P -> 'on' | 'with'\n",
    "\"\"\")\n",
    "\n",
    "# Create the parser\n",
    "parser = ChartParser(grammar)\n",
    "\n",
    "# Parse a sentence\n",
    "sentence = ['the', 'cat', 'chased', 'the', 'dog']\n",
    "result = parser.parse(sentence)\n",
    "\n",
    "if result:\n",
    "    print(\"Sentence is valid.\")\n",
    "else:\n",
    "    print(\"Sentence is not valid.\")\n"
   ]
  },
  {
   "cell_type": "code",
   "execution_count": null,
   "id": "4e50a1d6",
   "metadata": {},
   "outputs": [],
   "source": []
  }
 ],
 "metadata": {
  "kernelspec": {
   "display_name": "Python 3 (ipykernel)",
   "language": "python",
   "name": "python3"
  },
  "language_info": {
   "codemirror_mode": {
    "name": "ipython",
    "version": 3
   },
   "file_extension": ".py",
   "mimetype": "text/x-python",
   "name": "python",
   "nbconvert_exporter": "python",
   "pygments_lexer": "ipython3",
   "version": "3.11.3"
  }
 },
 "nbformat": 4,
 "nbformat_minor": 5
}
