{
 "cells": [
  {
   "cell_type": "code",
   "execution_count": 1,
   "id": "57669a9e",
   "metadata": {},
   "outputs": [
    {
     "name": "stdout",
     "output_type": "stream",
     "text": [
      "Token: I, POS tag: PRP\n",
      "Token: saw, POS tag: VBD\n",
      "Token: a, POS tag: DT\n",
      "Token: black, POS tag: JJ\n",
      "Token: cat, POS tag: NN\n",
      "Token: crossing, POS tag: VBG\n",
      "Token: the, POS tag: DT\n",
      "Token: road, POS tag: NN\n",
      "Token: ., POS tag: .\n"
     ]
    }
   ],
   "source": [
    "import nltk\n",
    "from nltk.tokenize import word_tokenize\n",
    "\n",
    "def perform_pos_tagging(text):\n",
    "    tokens = word_tokenize(text) \n",
    "    tagged_tokens = nltk.pos_tag(tokens) \n",
    "\n",
    "    for token, tag in tagged_tokens:\n",
    "        print(f\"Token: {token}, POS tag: {tag}\")\n",
    "\n",
    "text = \"I saw a black cat crossing the road.\"\n",
    "perform_pos_tagging(text)\n"
   ]
  },
  {
   "cell_type": "code",
   "execution_count": null,
   "id": "30b5024d",
   "metadata": {},
   "outputs": [],
   "source": []
  }
 ],
 "metadata": {
  "kernelspec": {
   "display_name": "Python 3 (ipykernel)",
   "language": "python",
   "name": "python3"
  },
  "language_info": {
   "codemirror_mode": {
    "name": "ipython",
    "version": 3
   },
   "file_extension": ".py",
   "mimetype": "text/x-python",
   "name": "python",
   "nbconvert_exporter": "python",
   "pygments_lexer": "ipython3",
   "version": "3.11.3"
  }
 },
 "nbformat": 4,
 "nbformat_minor": 5
}
