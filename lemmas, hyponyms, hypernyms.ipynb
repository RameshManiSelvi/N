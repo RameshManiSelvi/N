{
 "cells": [
  {
   "cell_type": "code",
   "execution_count": 1,
   "id": "711213b8",
   "metadata": {},
   "outputs": [
    {
     "name": "stdout",
     "output_type": "stream",
     "text": [
      "dog\n",
      "domestic_dog\n",
      "Canis_familiaris\n",
      "basenji.n.01\n",
      "corgi.n.01\n",
      "cur.n.01\n",
      "dalmatian.n.02\n",
      "great_pyrenees.n.01\n",
      "griffon.n.02\n",
      "hunting_dog.n.01\n",
      "lapdog.n.01\n",
      "leonberg.n.01\n",
      "mexican_hairless.n.01\n",
      "newfoundland.n.01\n",
      "pooch.n.01\n",
      "poodle.n.01\n",
      "pug.n.01\n",
      "puppy.n.01\n",
      "spitz.n.01\n",
      "toy_dog.n.01\n",
      "working_dog.n.01\n",
      "canine.n.02\n",
      "domestic_animal.n.01\n",
      "chew.v.01\n"
     ]
    }
   ],
   "source": [
    "from nltk.corpus import wordnet\n",
    "\n",
    "synsets = wordnet.synsets('dog')\n",
    "\n",
    "for lemma in synsets[0].lemmas():\n",
    "    print(lemma.name())\n",
    "\n",
    "hyponyms = synsets[0].hyponyms()\n",
    "for hyponym in hyponyms:\n",
    "    print(hyponym.name())\n",
    "\n",
    "hypernyms = synsets[0].hypernyms()\n",
    "for hypernym in hypernyms:\n",
    "    print(hypernym.name())\n",
    "\n",
    "synsets = wordnet.synsets('eat', pos=wordnet.VERB)\n",
    "for synset in synsets:\n",
    "    entailments = synset.entailments()\n",
    "    if entailments:\n",
    "        print(entailments[0].name())\n"
   ]
  },
  {
   "cell_type": "code",
   "execution_count": null,
   "id": "55bb5b6a",
   "metadata": {},
   "outputs": [],
   "source": []
  }
 ],
 "metadata": {
  "kernelspec": {
   "display_name": "Python 3 (ipykernel)",
   "language": "python",
   "name": "python3"
  },
  "language_info": {
   "codemirror_mode": {
    "name": "ipython",
    "version": 3
   },
   "file_extension": ".py",
   "mimetype": "text/x-python",
   "name": "python",
   "nbconvert_exporter": "python",
   "pygments_lexer": "ipython3",
   "version": "3.11.3"
  }
 },
 "nbformat": 4,
 "nbformat_minor": 5
}
