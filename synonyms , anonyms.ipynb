{
 "cells": [
  {
   "cell_type": "code",
   "execution_count": 1,
   "id": "1ad7c272",
   "metadata": {},
   "outputs": [
    {
     "name": "stdout",
     "output_type": "stream",
     "text": [
      "Synonyms for active_agent.n.01:\n",
      "\t- active_agent\n",
      "Synonyms for active_voice.n.01:\n",
      "\t- active_voice\n",
      "Antonyms for active_voice:\n",
      "\t- passive_voice\n",
      "Synonyms for active.n.03:\n",
      "Synonyms for active.a.01:\n",
      "Antonyms for active:\n",
      "\t- inactive\n",
      "Synonyms for active.s.02:\n",
      "\t- combat-ready\n",
      "\t- fighting\n",
      "Synonyms for active.a.03:\n",
      "Antonyms for active:\n",
      "\t- passive\n",
      "Synonyms for active.s.04:\n",
      "\t- participating\n",
      "Synonyms for active.a.05:\n",
      "Antonyms for active:\n",
      "\t- inactive\n",
      "Synonyms for active.a.06:\n",
      "Antonyms for active:\n",
      "\t- inactive\n",
      "Synonyms for active.a.07:\n",
      "Antonyms for active:\n",
      "\t- inactive\n",
      "Synonyms for active.s.08:\n",
      "\t- alive\n",
      "Synonyms for active.a.09:\n",
      "Antonyms for active:\n",
      "\t- quiet\n",
      "Synonyms for active.a.10:\n",
      "Antonyms for active:\n",
      "\t- passive\n",
      "Synonyms for active.a.11:\n",
      "\t- dynamic\n",
      "Antonyms for active:\n",
      "\t- stative\n",
      "Synonyms for active.a.12:\n",
      "Antonyms for active:\n",
      "\t- extinct\n",
      "Synonyms for active.a.13:\n",
      "Antonyms for active:\n",
      "\t- dormant\n",
      "Synonyms for active.a.14:\n",
      "Antonyms for active:\n",
      "\t- inactive\n"
     ]
    }
   ],
   "source": [
    "from nltk.corpus import wordnet\n",
    "\n",
    "synsets = wordnet.synsets('active')\n",
    "\n",
    "for synset in synsets:\n",
    "    print(f\"Synonyms for {synset.name()}:\")\n",
    "    for lemma in synset.lemmas():\n",
    "        if lemma.name() != 'active':\n",
    "            print(f\"\\t- {lemma.name()}\")\n",
    "\n",
    "    for lemma in synset.lemmas():\n",
    "        antonyms = lemma.antonyms()\n",
    "        if antonyms:\n",
    "            print(f\"Antonyms for {lemma.name()}:\")\n",
    "            for antonym in antonyms:\n",
    "                print(f\"\\t- {antonym.name()}\")"
   ]
  },
  {
   "cell_type": "code",
   "execution_count": null,
   "id": "7a593b63",
   "metadata": {},
   "outputs": [],
   "source": []
  }
 ],
 "metadata": {
  "kernelspec": {
   "display_name": "Python 3 (ipykernel)",
   "language": "python",
   "name": "python3"
  },
  "language_info": {
   "codemirror_mode": {
    "name": "ipython",
    "version": 3
   },
   "file_extension": ".py",
   "mimetype": "text/x-python",
   "name": "python",
   "nbconvert_exporter": "python",
   "pygments_lexer": "ipython3",
   "version": "3.11.3"
  }
 },
 "nbformat": 4,
 "nbformat_minor": 5
}
