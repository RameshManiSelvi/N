{
 "cells": [
  {
   "cell_type": "code",
   "execution_count": 4,
   "id": "d05db403",
   "metadata": {},
   "outputs": [
    {
     "name": "stdout",
     "output_type": "stream",
     "text": [
      "Default Tagger Output:\n",
      "[('I', 'NN'), ('love', 'NN'), ('to', 'NN'), ('play', 'NN'), ('soccer', 'NN'), ('.', 'NN')]\n",
      "\n",
      "Regular Expression Tagger Output:\n",
      "[('I', 'NNP'), ('love', None), ('to', None), ('play', None), ('soccer', None), ('.', None)]\n",
      "\n",
      "Unigram Tagger Output:\n",
      "[('I', 'PPSS'), ('love', 'VB'), ('to', 'TO'), ('play', 'VB'), ('soccer', None), ('.', '.')]\n"
     ]
    }
   ],
   "source": [
    "import nltk\n",
    "from nltk.tokenize import word_tokenize\n",
    "from nltk.tag import DefaultTagger, RegexpTagger, UnigramTagger\n",
    "from nltk.corpus import brown\n",
    "\n",
    "text = \"I love to play soccer.\"\n",
    "\n",
    "tokens = word_tokenize(text)\n",
    "\n",
    "train_data = brown.tagged_sents(categories='news')\n",
    "test_data = [tokens]\n",
    "\n",
    "default_tagger = DefaultTagger('NN')\n",
    "default_tagged = default_tagger.tag(tokens)\n",
    "print(\"Default Tagger Output:\")\n",
    "print(default_tagged)\n",
    "\n",
    "patterns = [\n",
    "    (r'.*ing$', 'VBG'), \n",
    "    (r'.*ed$', 'VBD'),  \n",
    "    (r'.*es$', 'VBZ'),   \n",
    "    (r'.*s$', 'NNS'),    \n",
    "    (r'^[A-Z].*$', 'NNP') \n",
    "]\n",
    "regexp_tagger = RegexpTagger(patterns)\n",
    "regexp_tagged = regexp_tagger.tag(tokens)\n",
    "print(\"\\nRegular Expression Tagger Output:\")\n",
    "print(regexp_tagged)\n",
    "\n",
    "unigram_tagger = UnigramTagger(train_data)\n",
    "unigram_tagged = unigram_tagger.tag(tokens)\n",
    "print(\"\\nUnigram Tagger Output:\")\n",
    "print(unigram_tagged)\n"
   ]
  },
  {
   "cell_type": "code",
   "execution_count": null,
   "id": "3abe2f06",
   "metadata": {},
   "outputs": [],
   "source": []
  }
 ],
 "metadata": {
  "kernelspec": {
   "display_name": "Python 3 (ipykernel)",
   "language": "python",
   "name": "python3"
  },
  "language_info": {
   "codemirror_mode": {
    "name": "ipython",
    "version": 3
   },
   "file_extension": ".py",
   "mimetype": "text/x-python",
   "name": "python",
   "nbconvert_exporter": "python",
   "pygments_lexer": "ipython3",
   "version": "3.11.3"
  }
 },
 "nbformat": 4,
 "nbformat_minor": 5
}
