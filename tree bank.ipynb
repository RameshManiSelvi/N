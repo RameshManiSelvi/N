{
 "cells": [
  {
   "cell_type": "code",
   "execution_count": null,
   "id": "d67b5f25",
   "metadata": {},
   "outputs": [
    {
     "name": "stderr",
     "output_type": "stream",
     "text": [
      "[nltk_data] Downloading package treebank to\n",
      "[nltk_data]     C:\\Users\\MANI\\AppData\\Roaming\\nltk_data...\n",
      "[nltk_data]   Package treebank is already up-to-date!\n"
     ]
    }
   ],
   "source": [
    "import nltk\n",
    "from nltk.corpus import treebank\n",
    "from nltk import ne_chunk\n",
    "\n",
    "nltk.download('treebank')\n",
    "\n",
    "sentence = treebank.sents()[0]\n",
    "\n",
    "pos_tags = nltk.pos_tag(sentence)\n",
    "\n",
    "ner_tags = ne_chunk(pos_tags)\n",
    "\n",
    "ner_tags.draw()\n"
   ]
  },
  {
   "cell_type": "code",
   "execution_count": null,
   "id": "38db5046",
   "metadata": {},
   "outputs": [],
   "source": []
  }
 ],
 "metadata": {
  "kernelspec": {
   "display_name": "Python 3 (ipykernel)",
   "language": "python",
   "name": "python3"
  },
  "language_info": {
   "codemirror_mode": {
    "name": "ipython",
    "version": 3
   },
   "file_extension": ".py",
   "mimetype": "text/x-python",
   "name": "python",
   "nbconvert_exporter": "python",
   "pygments_lexer": "ipython3",
   "version": "3.11.3"
  }
 },
 "nbformat": 4,
 "nbformat_minor": 5
}
