{
 "cells": [
  {
   "cell_type": "code",
   "execution_count": 1,
   "id": "0ce03c10",
   "metadata": {},
   "outputs": [
    {
     "name": "stdout",
     "output_type": "stream",
     "text": [
      "\u001b[38;5;2m✔ Download and installation successful\u001b[0m\n",
      "You can now load the package via spacy.load('en_core_web_sm')\n",
      "\n",
      "\n",
      "Spacy tokenization:  ['Hello', ',', 'My', 'name', 'is', 'Ramesh', '.', 'I', 'know', 'who', 'you', 'are', '.']\n"
     ]
    }
   ],
   "source": [
    "import spacy\n",
    "from keras.preprocessing.text import text_to_word_sequence\n",
    "text ='Hello, My name is Ramesh. I know who you are.'\n",
    "spacy.cli.download('en_core_web_sm')\n",
    "sp = spacy.load('en_core_web_sm')\n",
    "spacy_token=sp(text)\n",
    "spacyToken=[]\n",
    "for word in spacy_token:\n",
    "    spacyToken.append(word.text)\n",
    "print(\"\\n\\nSpacy tokenization: \",spacyToken)"
   ]
  },
  {
   "cell_type": "code",
   "execution_count": null,
   "id": "4caf8ad8",
   "metadata": {},
   "outputs": [],
   "source": []
  }
 ],
 "metadata": {
  "kernelspec": {
   "display_name": "Python 3 (ipykernel)",
   "language": "python",
   "name": "python3"
  },
  "language_info": {
   "codemirror_mode": {
    "name": "ipython",
    "version": 3
   },
   "file_extension": ".py",
   "mimetype": "text/x-python",
   "name": "python",
   "nbconvert_exporter": "python",
   "pygments_lexer": "ipython3",
   "version": "3.11.3"
  }
 },
 "nbformat": 4,
 "nbformat_minor": 5
}
