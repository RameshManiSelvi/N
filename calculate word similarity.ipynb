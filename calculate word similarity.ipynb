{
 "cells": [
  {
   "cell_type": "code",
   "execution_count": 1,
   "id": "8b5a4155",
   "metadata": {},
   "outputs": [
    {
     "name": "stdout",
     "output_type": "stream",
     "text": [
      "Word Similarity: 0.6274938543027219\n"
     ]
    },
    {
     "name": "stderr",
     "output_type": "stream",
     "text": [
      "C:\\Users\\MANI\\AppData\\Local\\Temp\\ipykernel_1844\\3158114226.py:7: UserWarning: [W007] The model you're using has no word vectors loaded, so the result of the Doc.similarity method will be based on the tagger, parser and NER, which may not give useful similarity judgements. This may happen if you're using one of the small models, e.g. `en_core_web_sm`, which don't ship with word vectors and only use context-sensitive tensors. You can always add your own word vectors, or use one of the larger models instead if available.\n",
      "  similarity = token1.similarity(token2)\n"
     ]
    }
   ],
   "source": [
    "import spacy\n",
    "\n",
    "def calculate_word_similarity(word1, word2):\n",
    "    nlp = spacy.load('en_core_web_sm')\n",
    "    token1 = nlp(word1)\n",
    "    token2 = nlp(word2)\n",
    "    similarity = token1.similarity(token2)\n",
    "    return similarity\n",
    "\n",
    "word1 = \"cat\"\n",
    "word2 = \"mouse\"\n",
    "similarity = calculate_word_similarity(word1, word2)\n",
    "print(\"Word Similarity:\", similarity)"
   ]
  },
  {
   "cell_type": "code",
   "execution_count": null,
   "id": "022b3a4c",
   "metadata": {},
   "outputs": [],
   "source": []
  }
 ],
 "metadata": {
  "kernelspec": {
   "display_name": "Python 3 (ipykernel)",
   "language": "python",
   "name": "python3"
  },
  "language_info": {
   "codemirror_mode": {
    "name": "ipython",
    "version": 3
   },
   "file_extension": ".py",
   "mimetype": "text/x-python",
   "name": "python",
   "nbconvert_exporter": "python",
   "pygments_lexer": "ipython3",
   "version": "3.11.3"
  }
 },
 "nbformat": 4,
 "nbformat_minor": 5
}
