{
 "cells": [
  {
   "cell_type": "code",
   "execution_count": 1,
   "id": "749c3b96",
   "metadata": {},
   "outputs": [
    {
     "name": "stdout",
     "output_type": "stream",
     "text": [
      "Enter a string: abbaba\n",
      "Input string does not match the FA pattern.\n"
     ]
    }
   ],
   "source": [
    "import re\n",
    "\n",
    "input_string = input(\"Enter a string: \")\n",
    "\n",
    "pattern = r\"(a+b)*bba\"\n",
    "\n",
    "match = re.fullmatch(pattern, input_string)\n",
    "\n",
    "if match:\n",
    "    print(\"Input string matches the FA pattern.\")\n",
    "else:\n",
    "    print(\"Input string does not match the FA pattern.\")\n"
   ]
  },
  {
   "cell_type": "code",
   "execution_count": null,
   "id": "60e9aefa",
   "metadata": {},
   "outputs": [],
   "source": []
  }
 ],
 "metadata": {
  "kernelspec": {
   "display_name": "Python 3 (ipykernel)",
   "language": "python",
   "name": "python3"
  },
  "language_info": {
   "codemirror_mode": {
    "name": "ipython",
    "version": 3
   },
   "file_extension": ".py",
   "mimetype": "text/x-python",
   "name": "python",
   "nbconvert_exporter": "python",
   "pygments_lexer": "ipython3",
   "version": "3.11.3"
  }
 },
 "nbformat": 4,
 "nbformat_minor": 5
}
